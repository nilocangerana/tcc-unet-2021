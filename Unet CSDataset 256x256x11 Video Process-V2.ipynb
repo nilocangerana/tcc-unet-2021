{
 "cells": [
  {
   "cell_type": "code",
   "execution_count": 1,
   "id": "typical-uncertainty",
   "metadata": {},
   "outputs": [],
   "source": [
    "import os\n",
    "import cv2 \n",
    "import numpy as np\n",
    "from tqdm import tqdm\n",
    "import keras\n",
    "import tensorflow as tf\n",
    "from tensorflow.python.client import device_lib\n",
    "import platform\n",
    "from keras.models import Model\n",
    "from keras.layers import Input, Conv2D, MaxPooling2D, concatenate, Conv2DTranspose, Dropout\n",
    "from keras.utils import normalize\n",
    "import math"
   ]
  },
  {
   "cell_type": "code",
   "execution_count": 2,
   "id": "ultimate-suggestion",
   "metadata": {},
   "outputs": [],
   "source": [
    "SIZE_X=256\n",
    "SIZE_Y=256\n",
    "N_CHANNEL=1\n",
    "\n",
    "#Quantidade de classes dos pixels\n",
    "N_CLASSES=11 #classes: 0 a 10"
   ]
  },
  {
   "cell_type": "code",
   "execution_count": 3,
   "id": "bound-scanning",
   "metadata": {},
   "outputs": [
    {
     "name": "stdout",
     "output_type": "stream",
     "text": [
      "Número de GPUs Disponiveis:  1\n",
      "GPU: NVIDIA GeForce GTX 1070\n",
      "Versão Tensorflow:  2.4.1\n",
      "Versão Python:  3.7.9\n",
      "Sistema Operacional:  Windows 10 - Versão:  10.0.19041\n"
     ]
    }
   ],
   "source": [
    "#Informacões\n",
    "print(\"Número de GPUs Disponiveis: \", len(tf.config.list_physical_devices('GPU')))\n",
    "print(\"GPU: NVIDIA GeForce GTX 1070\")\n",
    "print(\"Versão Tensorflow: \",tf.__version__)\n",
    "print(\"Versão Python: \",platform.python_version())\n",
    "print(\"Sistema Operacional: \",platform.system(), platform.release(), \"- Versão: \",platform.version())"
   ]
  },
  {
   "cell_type": "code",
   "execution_count": 3,
   "id": "olive-arrival",
   "metadata": {},
   "outputs": [],
   "source": [
    "def modeloUnet(n_classes, IMG_HEIGHT, IMG_WIDTH, IMG_CHANNELS):\n",
    "\n",
    "    inputs = Input((IMG_HEIGHT, IMG_WIDTH, IMG_CHANNELS))\n",
    "\n",
    "    #Contraction path\n",
    "    c1 = Conv2D(16, (3, 3), activation='relu', kernel_initializer='he_normal', padding='same')(inputs)\n",
    "    c1 = Dropout(0.1)(c1)\n",
    "    c1 = Conv2D(16, (3, 3), activation='relu', kernel_initializer='he_normal', padding='same')(c1)\n",
    "    p1 = MaxPooling2D((2, 2))(c1)\n",
    "    \n",
    "    c2 = Conv2D(32, (3, 3), activation='relu', kernel_initializer='he_normal', padding='same')(p1)\n",
    "    c2 = Dropout(0.1)(c2)\n",
    "    c2 = Conv2D(32, (3, 3), activation='relu', kernel_initializer='he_normal', padding='same')(c2)\n",
    "    p2 = MaxPooling2D((2, 2))(c2)\n",
    "     \n",
    "    c3 = Conv2D(64, (3, 3), activation='relu', kernel_initializer='he_normal', padding='same')(p2)\n",
    "    c3 = Dropout(0.2)(c3)\n",
    "    c3 = Conv2D(64, (3, 3), activation='relu', kernel_initializer='he_normal', padding='same')(c3)\n",
    "    p3 = MaxPooling2D((2, 2))(c3)\n",
    "     \n",
    "    c4 = Conv2D(128, (3, 3), activation='relu', kernel_initializer='he_normal', padding='same')(p3)\n",
    "    c4 = Dropout(0.2)(c4)\n",
    "    c4 = Conv2D(128, (3, 3), activation='relu', kernel_initializer='he_normal', padding='same')(c4)\n",
    "    p4 = MaxPooling2D(pool_size=(2, 2))(c4)\n",
    "     \n",
    "    c5 = Conv2D(256, (3, 3), activation='relu', kernel_initializer='he_normal', padding='same')(p4)\n",
    "    c5 = Dropout(0.3)(c5)\n",
    "    c5 = Conv2D(256, (3, 3), activation='relu', kernel_initializer='he_normal', padding='same')(c5)\n",
    "    \n",
    "    #Expansive path \n",
    "    u6 = Conv2DTranspose(128, (2, 2), strides=(2, 2), padding='same')(c5)\n",
    "    u6 = concatenate([u6, c4])\n",
    "    c6 = Conv2D(128, (3, 3), activation='relu', kernel_initializer='he_normal', padding='same')(u6)\n",
    "    c6 = Dropout(0.2)(c6)\n",
    "    c6 = Conv2D(128, (3, 3), activation='relu', kernel_initializer='he_normal', padding='same')(c6)\n",
    "     \n",
    "    u7 = Conv2DTranspose(64, (2, 2), strides=(2, 2), padding='same')(c6)\n",
    "    u7 = concatenate([u7, c3])\n",
    "    c7 = Conv2D(64, (3, 3), activation='relu', kernel_initializer='he_normal', padding='same')(u7)\n",
    "    c7 = Dropout(0.2)(c7)\n",
    "    c7 = Conv2D(64, (3, 3), activation='relu', kernel_initializer='he_normal', padding='same')(c7)\n",
    "     \n",
    "    u8 = Conv2DTranspose(32, (2, 2), strides=(2, 2), padding='same')(c7)\n",
    "    u8 = concatenate([u8, c2])\n",
    "    c8 = Conv2D(32, (3, 3), activation='relu', kernel_initializer='he_normal', padding='same')(u8)\n",
    "    c8 = Dropout(0.1)(c8)\n",
    "    c8 = Conv2D(32, (3, 3), activation='relu', kernel_initializer='he_normal', padding='same')(c8)\n",
    "     \n",
    "    u9 = Conv2DTranspose(16, (2, 2), strides=(2, 2), padding='same')(c8)\n",
    "    u9 = concatenate([u9, c1], axis=3)\n",
    "    c9 = Conv2D(16, (3, 3), activation='relu', kernel_initializer='he_normal', padding='same')(u9)\n",
    "    c9 = Dropout(0.1)(c9)\n",
    "    c9 = Conv2D(16, (3, 3), activation='relu', kernel_initializer='he_normal', padding='same')(c9)\n",
    "     \n",
    "    outputs = Conv2D(n_classes, (1, 1), activation='softmax')(c9)\n",
    "     \n",
    "    model = Model(inputs=[inputs], outputs=[outputs])\n",
    "    \n",
    "    return model"
   ]
  },
  {
   "cell_type": "code",
   "execution_count": 4,
   "id": "northern-stomach",
   "metadata": {
    "scrolled": true
   },
   "outputs": [
    {
     "name": "stdout",
     "output_type": "stream",
     "text": [
      "Model: \"model\"\n",
      "__________________________________________________________________________________________________\n",
      "Layer (type)                    Output Shape         Param #     Connected to                     \n",
      "==================================================================================================\n",
      "input_1 (InputLayer)            [(None, 512, 512, 1) 0                                            \n",
      "__________________________________________________________________________________________________\n",
      "conv2d (Conv2D)                 (None, 512, 512, 16) 160         input_1[0][0]                    \n",
      "__________________________________________________________________________________________________\n",
      "dropout (Dropout)               (None, 512, 512, 16) 0           conv2d[0][0]                     \n",
      "__________________________________________________________________________________________________\n",
      "conv2d_1 (Conv2D)               (None, 512, 512, 16) 2320        dropout[0][0]                    \n",
      "__________________________________________________________________________________________________\n",
      "max_pooling2d (MaxPooling2D)    (None, 256, 256, 16) 0           conv2d_1[0][0]                   \n",
      "__________________________________________________________________________________________________\n",
      "conv2d_2 (Conv2D)               (None, 256, 256, 32) 4640        max_pooling2d[0][0]              \n",
      "__________________________________________________________________________________________________\n",
      "dropout_1 (Dropout)             (None, 256, 256, 32) 0           conv2d_2[0][0]                   \n",
      "__________________________________________________________________________________________________\n",
      "conv2d_3 (Conv2D)               (None, 256, 256, 32) 9248        dropout_1[0][0]                  \n",
      "__________________________________________________________________________________________________\n",
      "max_pooling2d_1 (MaxPooling2D)  (None, 128, 128, 32) 0           conv2d_3[0][0]                   \n",
      "__________________________________________________________________________________________________\n",
      "conv2d_4 (Conv2D)               (None, 128, 128, 64) 18496       max_pooling2d_1[0][0]            \n",
      "__________________________________________________________________________________________________\n",
      "dropout_2 (Dropout)             (None, 128, 128, 64) 0           conv2d_4[0][0]                   \n",
      "__________________________________________________________________________________________________\n",
      "conv2d_5 (Conv2D)               (None, 128, 128, 64) 36928       dropout_2[0][0]                  \n",
      "__________________________________________________________________________________________________\n",
      "max_pooling2d_2 (MaxPooling2D)  (None, 64, 64, 64)   0           conv2d_5[0][0]                   \n",
      "__________________________________________________________________________________________________\n",
      "conv2d_6 (Conv2D)               (None, 64, 64, 128)  73856       max_pooling2d_2[0][0]            \n",
      "__________________________________________________________________________________________________\n",
      "dropout_3 (Dropout)             (None, 64, 64, 128)  0           conv2d_6[0][0]                   \n",
      "__________________________________________________________________________________________________\n",
      "conv2d_7 (Conv2D)               (None, 64, 64, 128)  147584      dropout_3[0][0]                  \n",
      "__________________________________________________________________________________________________\n",
      "max_pooling2d_3 (MaxPooling2D)  (None, 32, 32, 128)  0           conv2d_7[0][0]                   \n",
      "__________________________________________________________________________________________________\n",
      "conv2d_8 (Conv2D)               (None, 32, 32, 256)  295168      max_pooling2d_3[0][0]            \n",
      "__________________________________________________________________________________________________\n",
      "dropout_4 (Dropout)             (None, 32, 32, 256)  0           conv2d_8[0][0]                   \n",
      "__________________________________________________________________________________________________\n",
      "conv2d_9 (Conv2D)               (None, 32, 32, 256)  590080      dropout_4[0][0]                  \n",
      "__________________________________________________________________________________________________\n",
      "conv2d_transpose (Conv2DTranspo (None, 64, 64, 128)  131200      conv2d_9[0][0]                   \n",
      "__________________________________________________________________________________________________\n",
      "concatenate (Concatenate)       (None, 64, 64, 256)  0           conv2d_transpose[0][0]           \n",
      "                                                                 conv2d_7[0][0]                   \n",
      "__________________________________________________________________________________________________\n",
      "conv2d_10 (Conv2D)              (None, 64, 64, 128)  295040      concatenate[0][0]                \n",
      "__________________________________________________________________________________________________\n",
      "dropout_5 (Dropout)             (None, 64, 64, 128)  0           conv2d_10[0][0]                  \n",
      "__________________________________________________________________________________________________\n",
      "conv2d_11 (Conv2D)              (None, 64, 64, 128)  147584      dropout_5[0][0]                  \n",
      "__________________________________________________________________________________________________\n",
      "conv2d_transpose_1 (Conv2DTrans (None, 128, 128, 64) 32832       conv2d_11[0][0]                  \n",
      "__________________________________________________________________________________________________\n",
      "concatenate_1 (Concatenate)     (None, 128, 128, 128 0           conv2d_transpose_1[0][0]         \n",
      "                                                                 conv2d_5[0][0]                   \n",
      "__________________________________________________________________________________________________\n",
      "conv2d_12 (Conv2D)              (None, 128, 128, 64) 73792       concatenate_1[0][0]              \n",
      "__________________________________________________________________________________________________\n",
      "dropout_6 (Dropout)             (None, 128, 128, 64) 0           conv2d_12[0][0]                  \n",
      "__________________________________________________________________________________________________\n",
      "conv2d_13 (Conv2D)              (None, 128, 128, 64) 36928       dropout_6[0][0]                  \n",
      "__________________________________________________________________________________________________\n",
      "conv2d_transpose_2 (Conv2DTrans (None, 256, 256, 32) 8224        conv2d_13[0][0]                  \n",
      "__________________________________________________________________________________________________\n",
      "concatenate_2 (Concatenate)     (None, 256, 256, 64) 0           conv2d_transpose_2[0][0]         \n",
      "                                                                 conv2d_3[0][0]                   \n",
      "__________________________________________________________________________________________________\n",
      "conv2d_14 (Conv2D)              (None, 256, 256, 32) 18464       concatenate_2[0][0]              \n",
      "__________________________________________________________________________________________________\n",
      "dropout_7 (Dropout)             (None, 256, 256, 32) 0           conv2d_14[0][0]                  \n",
      "__________________________________________________________________________________________________\n",
      "conv2d_15 (Conv2D)              (None, 256, 256, 32) 9248        dropout_7[0][0]                  \n",
      "__________________________________________________________________________________________________\n",
      "conv2d_transpose_3 (Conv2DTrans (None, 512, 512, 16) 2064        conv2d_15[0][0]                  \n",
      "__________________________________________________________________________________________________\n",
      "concatenate_3 (Concatenate)     (None, 512, 512, 32) 0           conv2d_transpose_3[0][0]         \n",
      "                                                                 conv2d_1[0][0]                   \n",
      "__________________________________________________________________________________________________\n",
      "conv2d_16 (Conv2D)              (None, 512, 512, 16) 4624        concatenate_3[0][0]              \n",
      "__________________________________________________________________________________________________\n",
      "dropout_8 (Dropout)             (None, 512, 512, 16) 0           conv2d_16[0][0]                  \n",
      "__________________________________________________________________________________________________\n",
      "conv2d_17 (Conv2D)              (None, 512, 512, 16) 2320        dropout_8[0][0]                  \n",
      "__________________________________________________________________________________________________\n",
      "conv2d_18 (Conv2D)              (None, 512, 512, 11) 187         conv2d_17[0][0]                  \n",
      "==================================================================================================\n",
      "Total params: 1,940,987\n",
      "Trainable params: 1,940,987\n",
      "Non-trainable params: 0\n",
      "__________________________________________________________________________________________________\n"
     ]
    }
   ],
   "source": [
    "#Criar Modelo\n",
    "model = modeloUnet(N_CLASSES,SIZE_X,SIZE_Y,N_CHANNEL)\n",
    "model.compile(optimizer='adam', loss='categorical_crossentropy', metrics=['accuracy', tf.keras.metrics.MeanIoU(num_classes=N_CLASSES)])\n",
    "model.summary()"
   ]
  },
  {
   "cell_type": "code",
   "execution_count": 5,
   "id": "waiting-portuguese",
   "metadata": {},
   "outputs": [],
   "source": [
    "#Carregar Modelo\n",
    "model = keras.models.load_model('modeloUnetCSDo256x256Generator.hdf5')"
   ]
  },
  {
   "cell_type": "code",
   "execution_count": 12,
   "id": "passive-ground",
   "metadata": {},
   "outputs": [],
   "source": [
    "#Carregar video:\n",
    "cap= cv2.VideoCapture('video.mp4')\n",
    "\n",
    "#nome do video de saida:\n",
    "nomeVideoSaida='video_processado.mp4'"
   ]
  },
  {
   "cell_type": "code",
   "execution_count": 13,
   "id": "cross-clearance",
   "metadata": {},
   "outputs": [],
   "source": [
    "#Numero de frames\n",
    "numeroFrames=cap.get(cv2.CAP_PROP_FRAME_COUNT)\n",
    "\n",
    "#Frames por Segundo\n",
    "fps=cap.get(cv2.CAP_PROP_FPS)\n",
    "\n",
    "#Tempo do video(topo)\n",
    "tempoVideo=math.ceil(numeroFrames/fps)"
   ]
  },
  {
   "cell_type": "code",
   "execution_count": 14,
   "id": "infinite-rebound",
   "metadata": {},
   "outputs": [
    {
     "name": "stdout",
     "output_type": "stream",
     "text": [
      "650 frames gerados!\n"
     ]
    }
   ],
   "source": [
    "#Gerar Frames\n",
    "videoFrames=[]\n",
    "i=0\n",
    "while(cap.isOpened()):\n",
    "    ret, frame = cap.read()\n",
    "    if ret == False:\n",
    "        break\n",
    "    videoFrames.append(cv2.resize(frame,(SIZE_X,SIZE_Y)))\n",
    "    i+=1\n",
    "cap.release()\n",
    "print (str(len(videoFrames))+\" frames gerados!\")\n",
    "del cap"
   ]
  },
  {
   "cell_type": "code",
   "execution_count": 15,
   "id": "forced-ethics",
   "metadata": {},
   "outputs": [
    {
     "name": "stderr",
     "output_type": "stream",
     "text": [
      "100%|████████████████████████████████████████████████████████████████████████████████| 650/650 [00:40<00:00, 16.22it/s]\n"
     ]
    }
   ],
   "source": [
    "#Processar\n",
    "videoprocessado=[]\n",
    "for i in tqdm(range(len(videoFrames))):\n",
    "    novaImg=videoFrames[i]\n",
    "    novaImg= cv2.cvtColor(novaImg, cv2.COLOR_BGR2GRAY)\n",
    "    novaImg=np.array(novaImg)\n",
    "    novaImg=np.expand_dims(novaImg, 0)\n",
    "    novaImg= normalize(novaImg, axis=1)\n",
    "    prediction = (model.predict(novaImg))\n",
    "    predicted_img=np.argmax(prediction, axis=3)[0,:,:]\n",
    "    videoprocessado.append(predicted_img)\n",
    "videoprocessado=np.array(videoprocessado)"
   ]
  },
  {
   "cell_type": "code",
   "execution_count": 16,
   "id": "spatial-finger",
   "metadata": {},
   "outputs": [
    {
     "name": "stderr",
     "output_type": "stream",
     "text": [
      "100%|████████████████████████████████████████████████████████████████████████████████| 650/650 [00:41<00:00, 15.74it/s]\n"
     ]
    }
   ],
   "source": [
    "#Gerar video\n",
    "#out = cv2.VideoWriter(nomeVideoSaida,cv2.VideoWriter_fourcc(*'DIVX'), fps, (256,256))  #.avi\n",
    "out = cv2.VideoWriter(nomeVideoSaida,cv2.VideoWriter_fourcc(*'MP4V'), fps, (SIZE_X,SIZE_Y))  #.mp4\n",
    "for i in tqdm(range(len(videoprocessado))):\n",
    "    videoExpandido=np.stack((videoprocessado[i],)*3, axis=-1)\n",
    "    videoExpandido[np.all(videoExpandido == (1, 1, 1), axis=-1)] = (255,0,0) #pessoas\n",
    "    videoExpandido[np.all(videoExpandido == (2, 2, 2), axis=-1)] = (255,140,0) #ciclista\n",
    "    videoExpandido[np.all(videoExpandido == (3, 3, 3), axis=-1)] = (0,0,255) #carros\n",
    "    videoExpandido[np.all(videoExpandido == (4, 4, 4), axis=-1)] = (0,191,255) #caminhao\n",
    "    videoExpandido[np.all(videoExpandido == (5, 5, 5), axis=-1)] = (135,206,250) #onibus\n",
    "    videoExpandido[np.all(videoExpandido == (6, 6, 6), axis=-1)] = (70,130,180) #vã/trailer\n",
    "    videoExpandido[np.all(videoExpandido == (7, 7, 7), axis=-1)] = (112,128,144) #carreta\n",
    "    videoExpandido[np.all(videoExpandido == (8, 8, 8), axis=-1)] = (0,255,255) #trem\n",
    "    videoExpandido[np.all(videoExpandido == (9, 9, 9), axis=-1)] = (0,255,127) #moto \n",
    "    videoExpandido[np.all(videoExpandido == (10, 10, 10), axis=-1)] = (124,252,0) #biscicleta \n",
    "    img_blend = cv2.addWeighted(cv2.cvtColor(videoFrames[i], cv2.COLOR_RGB2BGR),0.4,videoExpandido,0.8,0,dtype = cv2.CV_8U)\n",
    "    out.write(cv2.cvtColor(img_blend, cv2.COLOR_RGB2BGR))\n",
    "out.release()"
   ]
  },
  {
   "cell_type": "code",
   "execution_count": 17,
   "id": "operating-velvet",
   "metadata": {},
   "outputs": [],
   "source": [
    "#Deleta variaveis da memoria\n",
    "del videoprocessado\n",
    "del videoFrames"
   ]
  }
 ],
 "metadata": {
  "kernelspec": {
   "display_name": "Python 3",
   "language": "python",
   "name": "python3"
  },
  "language_info": {
   "codemirror_mode": {
    "name": "ipython",
    "version": 3
   },
   "file_extension": ".py",
   "mimetype": "text/x-python",
   "name": "python",
   "nbconvert_exporter": "python",
   "pygments_lexer": "ipython3",
   "version": "3.7.9"
  }
 },
 "nbformat": 4,
 "nbformat_minor": 5
}
